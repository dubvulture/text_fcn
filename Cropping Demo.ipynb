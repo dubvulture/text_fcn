{
 "cells": [
  {
   "cell_type": "code",
   "execution_count": 1,
   "metadata": {
    "collapsed": false
   },
   "outputs": [],
   "source": [
    "from coco_text import COCO_Text\n",
    "import coco_utils\n",
    "import numpy as np\n",
    "import cv2\n",
    "import os\n",
    "import matplotlib.pyplot as plt\n",
    "%matplotlib qt"
   ]
  },
  {
   "cell_type": "code",
   "execution_count": 2,
   "metadata": {
    "collapsed": false
   },
   "outputs": [
    {
     "name": "stdout",
     "output_type": "stream",
     "text": [
      "loading annotations into memory...\n",
      "0:00:04.091645\n",
      "creating index...\n",
      "index created!\n"
     ]
    }
   ],
   "source": [
    "ct = COCO_Text('COCO_Text/COCO_Text.json')"
   ]
  },
  {
   "cell_type": "code",
   "execution_count": 31,
   "metadata": {
    "collapsed": true
   },
   "outputs": [],
   "source": [
    "def gen_images(ct, coco_id):\n",
    "    fname = ct.imgs[coco_id]['file_name']\n",
    "    image = cv2.imread(\n",
    "        os.path.join('COCO_Text/images/', fname),\n",
    "    )\n",
    "    annotation = np.zeros(image.shape[:-1], np.uint8)\n",
    "    weight = np.ones(image.shape[:-1], np.uint8) * 255\n",
    "\n",
    "    for ann in ct.imgToAnns[coco_id]:\n",
    "        poly = np.array(ct.anns[ann]['polygon'], np.int32).reshape((4,2))\n",
    "\n",
    "        if ct.anns[ann]['legibility'] == 'legible':\n",
    "            # draw only legible bbox/polygon\n",
    "            cv2.fillConvexPoly(annotation, poly, 255)\n",
    "        else:\n",
    "            # 0 weight if it is illegible\n",
    "            cv2.fillConvexPoly(weight, poly, 0)\n",
    "\n",
    "    return [image, annotation, weight]\n",
    "\n",
    "valid_anns = [ann for ann in ct.anns]\n",
    "imgs = [\n",
    "    i for i in ct.imgs if any(\n",
    "        ann for ann in ct.imgToAnns[i]\n",
    "            if ct.anns[ann]['legibility'] == 'legible'\n",
    "    )\n",
    "]"
   ]
  },
  {
   "cell_type": "code",
   "execution_count": 32,
   "metadata": {
    "collapsed": true
   },
   "outputs": [],
   "source": [
    "coco_id = np.random.choice(imgs)"
   ]
  },
  {
   "cell_type": "code",
   "execution_count": 33,
   "metadata": {
    "collapsed": false
   },
   "outputs": [
    {
     "data": {
      "text/plain": [
       "<matplotlib.image.AxesImage at 0x7f7aef6ee850>"
      ]
     },
     "execution_count": 33,
     "metadata": {},
     "output_type": "execute_result"
    }
   ],
   "source": [
    "image, annotation, weight = gen_images(ct, coco_id)\n",
    "image_rgb = image[:,:,::-1]\n",
    "annotation_rgb = cv2.cvtColor(annotation, cv2.COLOR_GRAY2BGR)[:,:,::-1]\n",
    "weight_rgb = cv2.cvtColor(weight, cv2.COLOR_GRAY2BGR)[:,:,::-1]\n",
    "plt.imshow(np.hstack((image_rgb, annotation_rgb, weight_rgb)))"
   ]
  },
  {
   "cell_type": "code",
   "execution_count": 34,
   "metadata": {
    "collapsed": false
   },
   "outputs": [
    {
     "name": "stdout",
     "output_type": "stream",
     "text": [
      "[slice(109, 297, None), slice(137, 325, None)]\n",
      "((0, 0), (0, 0))\n"
     ]
    }
   ],
   "source": [
    "ann = np.random.choice(ct.imgToAnns[coco_id])\n",
    "window = coco_utils.get_window(image.shape[:-1], ct.anns[ann])\n",
    "print window['slice']\n",
    "print window['pad']\n",
    "image, annotation, weight = coco_utils.crop_resize([image, annotation, weight], window, 256)"
   ]
  },
  {
   "cell_type": "code",
   "execution_count": 35,
   "metadata": {
    "collapsed": false
   },
   "outputs": [
    {
     "data": {
      "text/plain": [
       "<matplotlib.image.AxesImage at 0x7f7aef610590>"
      ]
     },
     "execution_count": 35,
     "metadata": {},
     "output_type": "execute_result"
    }
   ],
   "source": [
    "image_rgb = image[:,:,::-1]\n",
    "annotation_rgb = cv2.cvtColor(annotation, cv2.COLOR_GRAY2BGR)[:,:,::-1]\n",
    "weight_rgb = cv2.cvtColor(weight, cv2.COLOR_GRAY2BGR)[:,:,::-1]\n",
    "plt.imshow(np.hstack((image_rgb, annotation_rgb, weight_rgb)))"
   ]
  }
 ],
 "metadata": {
  "kernelspec": {
   "display_name": "Python 2",
   "language": "python",
   "name": "python2"
  },
  "language_info": {
   "codemirror_mode": {
    "name": "ipython",
    "version": 2
   },
   "file_extension": ".py",
   "mimetype": "text/x-python",
   "name": "python",
   "nbconvert_exporter": "python",
   "pygments_lexer": "ipython2",
   "version": "2.7.12"
  }
 },
 "nbformat": 4,
 "nbformat_minor": 2
}
